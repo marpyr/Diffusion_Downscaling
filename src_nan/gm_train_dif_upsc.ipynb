{
 "cells": [
  {
   "cell_type": "code",
   "execution_count": 1,
   "id": "2ce893d9-5aa5-45f1-819f-ef9f21599d71",
   "metadata": {},
   "outputs": [],
   "source": [
    "# 1. Import Libraries (as you have it)\n",
    "import torch\n",
    "import numpy as np\n",
    "import matplotlib.pyplot as plt\n",
    "from tqdm import tqdm\n",
    "from torch.utils.tensorboard import SummaryWriter\n",
    "import torchvision.transforms as T\n",
    "import os\n",
    "\n",
    "from DatasetCH import UpscaleDataset\n",
    "import Network\n",
    "from TrainDiffusion import EDMLoss, training_step, sample_model  # Import diffusion functions\n",
    "from TrainUnet import train_step  # Import standard U-Net training"
   ]
  },
  {
   "cell_type": "code",
   "execution_count": 2,
   "id": "8490bd5e-b4a3-4c47-92ad-830465617118",
   "metadata": {},
   "outputs": [
    {
     "name": "stdout",
     "output_type": "stream",
     "text": [
      "Test - new upscale\n",
      "Loaded coarse data shape: (138, 11, 11, 18)\n",
      "Loaded high-resolution data shape: (138, 103, 241)\n",
      "Final coarse shape: torch.Size([1518, 1, 11, 18])\n",
      "Final fine shape: torch.Size([1518, 1, 103, 241])\n",
      "Input shape (should be [N, 1, H, W]): torch.Size([1518, 1, 103, 241])\n",
      "Dataset ready.\n",
      "Test - new upscale\n",
      "Loaded coarse data shape: (46, 11, 11, 18)\n",
      "Loaded high-resolution data shape: (46, 103, 241)\n",
      "Final coarse shape: torch.Size([506, 1, 11, 18])\n",
      "Final fine shape: torch.Size([506, 1, 103, 241])\n",
      "Input shape (should be [N, 1, H, W]): torch.Size([506, 1, 103, 241])\n",
      "Dataset ready.\n"
     ]
    },
    {
     "ename": "TypeError",
     "evalue": "'int' object is not subscriptable",
     "output_type": "error",
     "traceback": [
      "\u001b[0;31m---------------------------------------------------------------------------\u001b[0m",
      "\u001b[0;31mTypeError\u001b[0m                                 Traceback (most recent call last)",
      "Cell \u001b[0;32mIn[2], line 16\u001b[0m\n\u001b[1;32m     11\u001b[0m dataloader_test \u001b[38;5;241m=\u001b[39m torch\u001b[38;5;241m.\u001b[39mutils\u001b[38;5;241m.\u001b[39mdata\u001b[38;5;241m.\u001b[39mDataLoader(dataset_test, batch_size\u001b[38;5;241m=\u001b[39m\u001b[38;5;241m8\u001b[39m, shuffle\u001b[38;5;241m=\u001b[39m\u001b[38;5;28;01mFalse\u001b[39;00m, num_workers\u001b[38;5;241m=\u001b[39m\u001b[38;5;241m4\u001b[39m)\n\u001b[1;32m     15\u001b[0m \u001b[38;5;66;03m# 4. Train U-Net with Diffusion\u001b[39;00m\n\u001b[0;32m---> 16\u001b[0m diffusion_model \u001b[38;5;241m=\u001b[39m \u001b[43mNetwork\u001b[49m\u001b[38;5;241;43m.\u001b[39;49m\u001b[43mUNet\u001b[49m\u001b[43m(\u001b[49m\u001b[43min_channels\u001b[49m\u001b[38;5;241;43m=\u001b[39;49m\u001b[38;5;241;43m2\u001b[39;49m\u001b[43m,\u001b[49m\u001b[43m \u001b[49m\u001b[43mout_channels\u001b[49m\u001b[38;5;241;43m=\u001b[39;49m\u001b[38;5;241;43m1\u001b[39;49m\u001b[43m,\u001b[49m\u001b[43m \u001b[49m\u001b[43mimg_resolution\u001b[49m\u001b[38;5;241;43m=\u001b[39;49m\u001b[43mdataset_train\u001b[49m\u001b[38;5;241;43m.\u001b[39;49m\u001b[43mout_shape\u001b[49m\u001b[43m[\u001b[49m\u001b[38;5;241;43m0\u001b[39;49m\u001b[43m]\u001b[49m\u001b[43m)\u001b[49m\u001b[38;5;241m.\u001b[39mcuda() \u001b[38;5;66;03m# Adjust in_channels if needed\u001b[39;00m\n\u001b[1;32m     17\u001b[0m diffusion_optimizer \u001b[38;5;241m=\u001b[39m torch\u001b[38;5;241m.\u001b[39moptim\u001b[38;5;241m.\u001b[39mAdamW(diffusion_model\u001b[38;5;241m.\u001b[39mparameters(), lr\u001b[38;5;241m=\u001b[39m\u001b[38;5;241m1e-4\u001b[39m)\n\u001b[1;32m     18\u001b[0m diffusion_scaler \u001b[38;5;241m=\u001b[39m torch\u001b[38;5;241m.\u001b[39mcuda\u001b[38;5;241m.\u001b[39mamp\u001b[38;5;241m.\u001b[39mGradScaler()  \u001b[38;5;66;03m# or torch.amp.GradScaler('cuda') if necessary\u001b[39;00m\n",
      "File \u001b[0;32m~/Notebooks/ANEMOI/ClimateDiffuse/src/Network.py:251\u001b[0m, in \u001b[0;36mUNet.__init__\u001b[0;34m(self, img_resolution, in_channels, out_channels, label_dim, augment_dim, model_channels, channel_mult, channel_mult_emb, num_blocks, attn_resolutions, dropout, label_dropout, use_diffuse)\u001b[0m\n\u001b[1;32m    249\u001b[0m cout \u001b[38;5;241m=\u001b[39m in_channels\n\u001b[1;32m    250\u001b[0m \u001b[38;5;28;01mfor\u001b[39;00m level, mult \u001b[38;5;129;01min\u001b[39;00m \u001b[38;5;28menumerate\u001b[39m(channel_mult):\n\u001b[0;32m--> 251\u001b[0m     resx \u001b[38;5;241m=\u001b[39m \u001b[43mimg_resolution\u001b[49m\u001b[43m[\u001b[49m\u001b[38;5;241;43m0\u001b[39;49m\u001b[43m]\u001b[49m \u001b[38;5;241m>>\u001b[39m level\n\u001b[1;32m    252\u001b[0m     resy \u001b[38;5;241m=\u001b[39m img_resolution[\u001b[38;5;241m1\u001b[39m] \u001b[38;5;241m>>\u001b[39m level\n\u001b[1;32m    253\u001b[0m     \u001b[38;5;28;01mif\u001b[39;00m level \u001b[38;5;241m==\u001b[39m \u001b[38;5;241m0\u001b[39m:\n",
      "\u001b[0;31mTypeError\u001b[0m: 'int' object is not subscriptable"
     ]
    }
   ],
   "source": [
    "\n",
    "# 2. Define Datasets (as you have it)\n",
    "ifs_dir = '/s2s/mpyrina/ECMWF_MCH/Europe_eval/s2s_hind_2022/all/'\n",
    "obs_dir = '/net/cfc/s2s_nobackup/mpyrina/TABSD_ifs_like/'\n",
    "\n",
    "dataset_train = UpscaleDataset(coarse_data_dir=ifs_dir, highres_data_dir=obs_dir,\n",
    "                              year_start=2005, year_end=2008, month=815)\n",
    "dataset_test = UpscaleDataset(coarse_data_dir=ifs_dir, highres_data_dir=obs_dir,\n",
    "                             year_start=2009, year_end=2010, month=815)\n",
    "\n",
    "dataloader_train = torch.utils.data.DataLoader(dataset_train, batch_size=8, shuffle=True, num_workers=4)\n",
    "dataloader_test = torch.utils.data.DataLoader(dataset_test, batch_size=8, shuffle=False, num_workers=4)\n",
    "\n",
    "\n",
    "\n",
    "# 4. Train U-Net with Diffusion\n",
    "diffusion_model = Network.UNet(in_channels=2, out_channels=1, img_resolution=dataset_train.out_shape[0]).cuda() # Adjust in_channels if needed\n",
    "diffusion_optimizer = torch.optim.AdamW(diffusion_model.parameters(), lr=1e-4)\n",
    "diffusion_scaler = torch.cuda.amp.GradScaler()  # or torch.amp.GradScaler('cuda') if necessary\n",
    "diffusion_loss_fn = EDMLoss()\n",
    "\n",
    "num_epochs_diffusion = 50  # Adjust as needed\n",
    "for epoch in range(num_epochs_diffusion):\n",
    "    train_loss_diffusion = training_step(diffusion_model, diffusion_loss_fn,\n",
    "                                         dataloader_train, diffusion_optimizer,\n",
    "                                         diffusion_scaler, epoch, accum=4, device=\"cuda\")\n",
    "    print(f\"Diffusion U-Net Epoch {epoch}: Loss = {train_loss_diffusion}\")\n",
    "\n",
    "# 5. Upscaling with Trained Diffusion Model\n",
    "#   (This part needs careful implementation, using sample_model or a similar generation loop)\n",
    "#   You'll need to generate from noise, conditioned on the low-resolution input.\n",
    "#   This is not a single forward pass, but an iterative denoising process.\n",
    "#   Use the sample_model function or adapt it."
   ]
  },
  {
   "cell_type": "code",
   "execution_count": 3,
   "id": "c3223244-fdc2-4829-a3f2-40a3ccb2ee39",
   "metadata": {},
   "outputs": [
    {
     "ename": "TypeError",
     "evalue": "'int' object is not subscriptable",
     "output_type": "error",
     "traceback": [
      "\u001b[0;31m---------------------------------------------------------------------------\u001b[0m",
      "\u001b[0;31mTypeError\u001b[0m                                 Traceback (most recent call last)",
      "Cell \u001b[0;32mIn[3], line 2\u001b[0m\n\u001b[1;32m      1\u001b[0m \u001b[38;5;66;03m# 3. Train U-Net without Diffusion\u001b[39;00m\n\u001b[0;32m----> 2\u001b[0m unet_model \u001b[38;5;241m=\u001b[39m \u001b[43mNetwork\u001b[49m\u001b[38;5;241;43m.\u001b[39;49m\u001b[43mUNet\u001b[49m\u001b[43m(\u001b[49m\u001b[43min_channels\u001b[49m\u001b[38;5;241;43m=\u001b[39;49m\u001b[38;5;241;43m1\u001b[39;49m\u001b[43m,\u001b[49m\u001b[43m \u001b[49m\u001b[43mout_channels\u001b[49m\u001b[38;5;241;43m=\u001b[39;49m\u001b[38;5;241;43m1\u001b[39;49m\u001b[43m,\u001b[49m\u001b[43m \u001b[49m\u001b[43mimg_resolution\u001b[49m\u001b[38;5;241;43m=\u001b[39;49m\u001b[43mdataset_train\u001b[49m\u001b[38;5;241;43m.\u001b[39;49m\u001b[43mout_shape\u001b[49m\u001b[43m[\u001b[49m\u001b[38;5;241;43m0\u001b[39;49m\u001b[43m]\u001b[49m\u001b[43m)\u001b[49m\u001b[38;5;241m.\u001b[39mcuda() \u001b[38;5;66;03m# Adjust in_channels if needed\u001b[39;00m\n\u001b[1;32m      3\u001b[0m unet_optimizer \u001b[38;5;241m=\u001b[39m torch\u001b[38;5;241m.\u001b[39moptim\u001b[38;5;241m.\u001b[39mAdamW(unet_model\u001b[38;5;241m.\u001b[39mparameters(), lr\u001b[38;5;241m=\u001b[39m\u001b[38;5;241m1e-4\u001b[39m)\n\u001b[1;32m      4\u001b[0m unet_scaler \u001b[38;5;241m=\u001b[39m torch\u001b[38;5;241m.\u001b[39mcuda\u001b[38;5;241m.\u001b[39mamp\u001b[38;5;241m.\u001b[39mGradScaler()  \u001b[38;5;66;03m# or torch.amp.GradScaler('cuda') if necessary\u001b[39;00m\n",
      "File \u001b[0;32m~/Notebooks/ANEMOI/ClimateDiffuse/src/Network.py:251\u001b[0m, in \u001b[0;36mUNet.__init__\u001b[0;34m(self, img_resolution, in_channels, out_channels, label_dim, augment_dim, model_channels, channel_mult, channel_mult_emb, num_blocks, attn_resolutions, dropout, label_dropout, use_diffuse)\u001b[0m\n\u001b[1;32m    249\u001b[0m cout \u001b[38;5;241m=\u001b[39m in_channels\n\u001b[1;32m    250\u001b[0m \u001b[38;5;28;01mfor\u001b[39;00m level, mult \u001b[38;5;129;01min\u001b[39;00m \u001b[38;5;28menumerate\u001b[39m(channel_mult):\n\u001b[0;32m--> 251\u001b[0m     resx \u001b[38;5;241m=\u001b[39m \u001b[43mimg_resolution\u001b[49m\u001b[43m[\u001b[49m\u001b[38;5;241;43m0\u001b[39;49m\u001b[43m]\u001b[49m \u001b[38;5;241m>>\u001b[39m level\n\u001b[1;32m    252\u001b[0m     resy \u001b[38;5;241m=\u001b[39m img_resolution[\u001b[38;5;241m1\u001b[39m] \u001b[38;5;241m>>\u001b[39m level\n\u001b[1;32m    253\u001b[0m     \u001b[38;5;28;01mif\u001b[39;00m level \u001b[38;5;241m==\u001b[39m \u001b[38;5;241m0\u001b[39m:\n",
      "\u001b[0;31mTypeError\u001b[0m: 'int' object is not subscriptable"
     ]
    }
   ],
   "source": [
    "# 3. Train U-Net without Diffusion\n",
    "unet_model = Network.UNet(in_channels=1, out_channels=1, img_resolution=dataset_train.out_shape[0]).cuda() # Adjust in_channels if needed\n",
    "unet_optimizer = torch.optim.AdamW(unet_model.parameters(), lr=1e-4)\n",
    "unet_scaler = torch.cuda.amp.GradScaler()  # or torch.amp.GradScaler('cuda') if necessary\n",
    "unet_loss_fn = torch.nn.MSELoss()\n",
    "\n",
    "num_epochs_unet = 10  # Adjust as needed\n",
    "for epoch in range(num_epochs_unet):\n",
    "    train_loss = train_step(unet_model, unet_loss_fn, dataloader_train,\n",
    "                           unet_optimizer, unet_scaler, epoch, accum=4, device=\"cuda\")\n",
    "    print(f\"U-Net (No Diffusion) Epoch {epoch}: Loss = {train_loss}\")"
   ]
  },
  {
   "cell_type": "code",
   "execution_count": null,
   "id": "1425619f-24c5-4bf3-9924-313fe5db8821",
   "metadata": {},
   "outputs": [],
   "source": []
  }
 ],
 "metadata": {
  "kernelspec": {
   "display_name": "Python [conda env:.conda-myenv_iacpy3_2023]",
   "language": "python",
   "name": "conda-env-.conda-myenv_iacpy3_2023-py"
  },
  "language_info": {
   "codemirror_mode": {
    "name": "ipython",
    "version": 3
   },
   "file_extension": ".py",
   "mimetype": "text/x-python",
   "name": "python",
   "nbconvert_exporter": "python",
   "pygments_lexer": "ipython3",
   "version": "3.11.4"
  }
 },
 "nbformat": 4,
 "nbformat_minor": 5
}
